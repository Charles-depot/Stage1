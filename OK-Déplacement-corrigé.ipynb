{
 "cells": [
  {
   "cell_type": "markdown",
   "metadata": {},
   "source": [
    "<h1>Simulation d'un jeu et estimation d'une probabilité</h1><hr/>\n",
    "<h3>Niveaux : </h3>\n",
    "   <ul>\n",
    "   <li>seconde, </li>\n",
    "   <li>premières ES et S, </li>\n",
    "        <li>terminales ES et S.</li>\n",
    "    </ul>\n",
    "<h3>Compétences mathématiques :</h3>\n",
    "    <ul>\n",
    "        <li>simulation d'une loi binomiale, </li>\n",
    "        <li>estimation d'une probabilité par la loi des grands nombres,</li>\n",
    "        <li>diagrammes en bâtons et échantillonnage.</li>\n",
    "   </ul>\n",
    "<h3>Compétences en algorithmique et en programmation :</h3>\n",
    "   <ul>\n",
    "        <li>affectations, instructions conditionnelles et boucles itératives, </li>\n",
    "        <li>définitions et appels de fonctions avec et sans paramètres,</li>\n",
    "        <li>lecture, compréhension et modification de scripts,</li>\n",
    "        <li>manipulation d'une bibliothèque graphique.</li>\n",
    "   </ul>\n",
    "<hr/>\n",
    "<p>*Ecrit par Charles Poulmaire<br/>\n",
    "Lycée Vangogh d'Aubergenville (Académie de Versailles)*</p><hr/>\n",
    "\n",
    "<h1>Enoncé</h1>\n",
    "<p>Un pion se déplace sur un axe gradué. Il part de l’abscisse zéro et avant chaque déplacement on lance une pièce de monnaie : si c’est pile le pion recule d’une unité, si c’est face il avance de 2 unités. On effectue 10 tirages soit 10 déplacements.\n",
    "On aimerait estimer la probabilité de l'événement\" l'abscisse du pion est supérieure strictement à 5\"\n",
    "</p>\n"
   ]
  },
  {
   "cell_type": "markdown",
   "metadata": {},
   "source": [
    "<h2> Consigne 1 </h2>\n",
    "<p> Quelles sont les différentes abscisses possibles des points d’arrivée ?  </p>"
   ]
  },
  {
   "cell_type": "markdown",
   "metadata": {
    "collapsed": true
   },
   "source": [
    "<i>Répondre ici.</i>\n",
    "<p>Au premier déplacement le pion à pour abscisse -1 ou 2, au deuxième déplacement le pion à pour abscisse -2,1 ou 4....Si\n",
    "pour les 10 tirages on a ontenu j piles et k faces ( j+k = 10 ou k = 10− j avec j = 0..10), le pion aura pour abscisse\n",
    "−j+2k = 20-3j avec j = 0..10.\n",
    "Les différentes abscisses des points d’arrivée sont donc :\n",
    "−10,−7,−4,−1,2,5,8,11,14,17,20.</p>"
   ]
  },
  {
   "cell_type": "markdown",
   "metadata": {},
   "source": [
    "<h2> Consigne 2 </h2>\n",
    "<p>**La bibliothèque `random` de `Python` permet d'obtenir des fonctions générant des nombres aléatoires. On la charge à l'aide de la syntaxe `from random import *` que l'on place dès le début du script `Python`. La fonction `random()` renvoie alors un nombre réel aléatoire dans $[0,1[$. **<br/></p>\n",
    "<p>\n",
    "1) Dans la cellule ci-dessous, écrivez une fonction `trajet()` permettant de simuler l'expérience et renvoyant la position du pion.</p>"
   ]
  },
  {
   "cell_type": "code",
   "execution_count": 1,
   "metadata": {
    "collapsed": true
   },
   "outputs": [],
   "source": [
    "# Ecrire le code Python ici.\n",
    "from random import *\n",
    "def trajet():\n",
    "    position = 0\n",
    "    for i in range(10):\n",
    "        if (random() < 0.5):\n",
    "            position = position + 2\n",
    "        else:\n",
    "            position = position - 1\n",
    "    return position"
   ]
  },
  {
   "cell_type": "markdown",
   "metadata": {},
   "source": [
    "2) Tester votre fonction."
   ]
  },
  {
   "cell_type": "code",
   "execution_count": 2,
   "metadata": {},
   "outputs": [
    {
     "data": {
      "text/plain": [
       "2"
      ]
     },
     "execution_count": 2,
     "metadata": {},
     "output_type": "execute_result"
    }
   ],
   "source": [
    "# Ecrire l'instruction ici.\n",
    "trajet()"
   ]
  },
  {
   "cell_type": "markdown",
   "metadata": {},
   "source": [
    "<h2> Consigne 3 </h2>\n",
    "<p>1) Ecrire une fonction echantillon(n) qui simule cette expérience n fois et renvoie la fréquence de l'événement \"l'abscisse du pion est supérieure strictement à 5\".</p>"
   ]
  },
  {
   "cell_type": "code",
   "execution_count": 3,
   "metadata": {
    "collapsed": true
   },
   "outputs": [],
   "source": [
    "# Ecrire le code Python ici.\n",
    "def echantillon(n):\n",
    "    compteur = 0\n",
    "    for k in range(n):\n",
    "        if (trajet() > 5):\n",
    "            compteur = compteur + 1\n",
    "    return compteur/n"
   ]
  },
  {
   "cell_type": "markdown",
   "metadata": {},
   "source": [
    "2) Tester votre fonction pour n = 1000."
   ]
  },
  {
   "cell_type": "code",
   "execution_count": 4,
   "metadata": {},
   "outputs": [
    {
     "data": {
      "text/plain": [
       "0.3852"
      ]
     },
     "execution_count": 4,
     "metadata": {},
     "output_type": "execute_result"
    }
   ],
   "source": [
    "# Ecrire l'instruction ici.\n",
    "echantillon(5000)"
   ]
  },
  {
   "cell_type": "markdown",
   "metadata": {},
   "source": [
    "<h2>Consigne 4</h2>\n",
    "<p>1) Exécuter le code `Python` suivant et expliquer ce qu'il réalise :</p>"
   ]
  },
  {
   "cell_type": "code",
   "execution_count": 6,
   "metadata": {},
   "outputs": [
    {
     "data": {
      "image/png": "[encoded data removed]",
      "text/plain": [
       "<matplotlib.figure.Figure at 0x21bdbb4d828>"
      ]
     },
     "metadata": {},
     "output_type": "display_data"
    }
   ],
   "source": [
    "import matplotlib.pyplot as plt\n",
    "x = [1,2,3,5]\n",
    "y = [10,15,6,12.5]\n",
    "plt.bar(x,y)\n",
    "plt.show()"
   ]
  },
  {
   "cell_type": "markdown",
   "metadata": {},
   "source": [
    "<p> On répète p fois la simulation de la consigne 3. Ecrire dans la cellule ci-dessous une fonction `diag_simul(n)`affichant le diagramme de p bâtons dont les hauteurs correspondent aux valeurs retournées par la fonction `Simulation()`avec comme argument n le nombre de répétitions et p la taille d'un échantillon.</p>"
   ]
  },
  {
   "cell_type": "code",
   "execution_count": 7,
   "metadata": {
    "collapsed": true
   },
   "outputs": [],
   "source": [
    "# Ecrire le code Python ici.\n",
    "def diag_simul(p,n):\n",
    "    x = p*[0]\n",
    "    y = p*[0]\n",
    "    for k in range(p):\n",
    "        x[k] = k + 1\n",
    "        y[k] = echantillon(n)\n",
    "    plt.bar(x,y)\n",
    "    plt.show()"
   ]
  },
  {
   "cell_type": "markdown",
   "metadata": {},
   "source": [
    "3) Tester votre fonction pour n = 1000 et p = 10."
   ]
  },
  {
   "cell_type": "code",
   "execution_count": 8,
   "metadata": {},
   "outputs": [
    {
     "data": {
      "image/png": "[encoded data removed]",
      "text/plain": [
       "<matplotlib.figure.Figure at 0x21bdd078fd0>"
      ]
     },
     "metadata": {},
     "output_type": "display_data"
    }
   ],
   "source": [
    "# Ecrire l'instruction ici.\n",
    "diag_simul(10,1000)"
   ]
  },
  {
   "cell_type": "markdown",
   "metadata": {},
   "source": [
    "4) Donner une estimation de la probabilté de l'événement."
   ]
  },
  {
   "cell_type": "markdown",
   "metadata": {},
   "source": [
    "<i>Réponse ici</i>\n",
    "0,37"
   ]
  },
  {
   "cell_type": "markdown",
   "metadata": {},
   "source": [
    "<h2>Consigne 4</h2><br/>\n",
    "<p>1) Tester la fonction evolutionProba avec comme argument 500.</p> <br/>\n",
    "<p>** On utilise la bibliothèque `matplotlib.pyplot` pour donner une représentation graphique de cette évolution. Il est pratique de l'ouvrir en lui donnant un nom abrégé, par la commande `import matplotlib.pyplot as plt`**</p>"
   ]
  },
  {
   "cell_type": "code",
   "execution_count": 9,
   "metadata": {
    "collapsed": true
   },
   "outputs": [],
   "source": [
    "import matplotlib.pyplot as plt\n",
    "\n",
    "def evolutionProba(nExperiences):\n",
    "    compteur = 0\n",
    "    if (trajet() > 5):\n",
    "        compteur = compteur + 1\n",
    "    n = 1\n",
    "    L = [compteur] # moyenne sur 1 expérience\n",
    "    while n < nExperiences:\n",
    "        n = n+1\n",
    "        if (trajet() > 5):\n",
    "            compteur = compteur + 1\n",
    "        L.append(compteur/n) # on ajoute la moyenne sur n expériences\n",
    "    plt.plot(list(range(1,nExperiences+1)),L,'b.')\n",
    "    plt.plot([1,nExperiences],[0.37, 0.37],'r-')\n",
    "    plt.grid()\n",
    "    plt.show()"
   ]
  },
  {
   "cell_type": "code",
   "execution_count": 10,
   "metadata": {},
   "outputs": [
    {
     "data": {
      "image/png": "[encoded data removed]",
      "text/plain": [
       "<matplotlib.figure.Figure at 0x21bdcff1e80>"
      ]
     },
     "metadata": {},
     "output_type": "display_data"
    }
   ],
   "source": [
    "# Ecrire l'instruction ici.\n",
    "evolutionProba(500)"
   ]
  },
  {
   "cell_type": "markdown",
   "metadata": {},
   "source": [
    "<p> 2) Justifier chaque ligne du script.</p>"
   ]
  },
  {
   "cell_type": "markdown",
   "metadata": {},
   "source": [
    "<i>Réponse ici</i>"
   ]
  },
  {
   "cell_type": "markdown",
   "metadata": {},
   "source": [
    "<h2>Consigne 5</h2>\n",
    "<p> Démonstration. Loi binomiale.\n",
    "abscisse 20-3j avec j le nombre de faces. $20-3j < 5$ correspond à $j<5$.\n",
    "Le nombre de faces suit une loi B(10;0,5)...\n",
    "</p>"
   ]
  },
  {
   "cell_type": "markdown",
   "metadata": {
    "collapsed": true
   },
   "source": [
    "<h2>Consigne 6</h2>\n",
    "<p>Modification des fonctions précédentes si le nombre de lancers et de déplacements sont différents.\n",
    "Le lancer d’une pièce bien équilibrée détermine le déplacement du pion.\n",
    "<ul>\n",
    "<li>PILE, le pion se déplace vers la droite</li>\n",
    "<li>FACE, le pion se déplace vers la gauche</li>\n",
    "</ul>\n",
    "Un trajet est une succession de 4 déplacements. On s’intéresse à l’événement\n",
    "A \"le pion est revenu à la case départ après 4 déplacements\".\n",
    "À chaque lancer, on associe le réel +1 si le résultat est PILE et -1 si le résultat est\n",
    "FACE.\n",
    "</p>"
   ]
  },
  {
   "cell_type": "markdown",
   "metadata": {},
   "source": [
    "<h3> Bilan des compétences en algorithmique et en programmation consigne par consigne : </h3>\n",
    "<ul>\n",
    "    <li> Consigne 2 : \n",
    "        <ul>\n",
    "            <li> utilisation fonctions de la bibliothèque `random`;</li>\n",
    "            <li> définition d'une fonction;</li>\n",
    "            <li> utilisation d'une boucle bornée;</li>\n",
    "            <li> utilisation d'une structure conditionnelle;</li>\n",
    "            <li> appel d'une fonction;</li>\n",
    "        </ul> </li>\n",
    "    <li> Consigne 3 :\n",
    "        <ul>\n",
    "            <li> définition d'une fonction;</li>\n",
    "            <li> utilisation d'une boucle bornée;</li>\n",
    "            <li> utilisation d'une structure conditionnelle;</li>\n",
    "            <li> appel d'une fonction;</li>\n",
    "        </ul></li>\n",
    "    <li> Consigne 4 :\n",
    "        <ul>\n",
    "             <li>utilisation de fonctions de la bibliothèque `matplotlib`;</li>\n",
    "             <li>Comprendre des fonctions de la bibliothèque `matplotlib`;</li>\n",
    "            <li> définition et appel d'une fonction;</li>\n",
    "            <li> utilisation d'une boucle bornée;</li>\n",
    "            <li> manipulation de listes;</li>\n",
    "        </ul></li>\n",
    "</ul>"
   ]
  },
  {
   "cell_type": "code",
   "execution_count": null,
   "metadata": {
    "collapsed": true
   },
   "outputs": [],
   "source": []
  }
 ],
 "metadata": {
  "kernelspec": {
   "display_name": "Python 3",
   "language": "python",
   "name": "python3"
  },
  "language_info": {
   "codemirror_mode": {
    "name": "ipython",
    "version": 3
   },
   "file_extension": ".py",
   "mimetype": "text/x-python",
   "name": "python",
   "nbconvert_exporter": "python",
   "pygments_lexer": "ipython3",
   "version": "3.6.2"
  },
  "varInspector": {
   "cols": {
    "lenName": 16,
    "lenType": 16,
    "lenVar": 40
   },
   "kernels_config": {
    "python": {
     "delete_cmd_postfix": "",
     "delete_cmd_prefix": "del ",
     "library": "var_list.py",
     "varRefreshCmd": "print(var_dic_list())"
    },
    "r": {
     "delete_cmd_postfix": ") ",
     "delete_cmd_prefix": "rm(",
     "library": "var_list.r",
     "varRefreshCmd": "cat(var_dic_list()) "
    }
   },
   "types_to_exclude": [
    "module",
    "function",
    "builtin_function_or_method",
    "instance",
    "_Feature"
   ],
   "window_display": true
  }
 },
 "nbformat": 4,
 "nbformat_minor": 2
}
