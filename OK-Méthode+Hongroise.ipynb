{
 "cells": [
  {
   "cell_type": "markdown",
   "metadata": {},
   "source": [
    "<h1> Déterminer l'expression d'une suite en fonction de $n$. </h1>\n",
    "\n",
    "<hr/>\n",
    "\n",
    "<h3> Niveaux </h3>\n",
    " - Première \n",
    " - Terminale\n",
    " \n",
    "<h3> Compétences mathématiques</h3>   \n",
    " - Reconnaitre une suite arithmétique graphiquement   \n",
    " - Reconnaitre une suite arithmétique numériquement\n",
    " - Utiliser la formule de la somme des termes d'une suite arithmétique \n",
    " - Faire la somme des termes d'une suite \n",
    " - Communiquer à l'écrit\n",
    " \n",
    "<h3> Compétences algorithmiques et en programmation</h3>  \n",
    " - Analyser le fonctionnemet ou le but d'un algorithme\n",
    " - Modifier un algorithme existant pour obtenir un résultat précis \n",
    " - Créer un algorithme en réponse à un problème donné\n",
    " - Manipuler des affectations, boucle bornée\n",
    " - Définir et appeler des fonctions avec et sans paramètres \n",
    " - Lire, comprendre et modifier des scripts\n",
    " - Manipuler un bibliothèque graphique\n",
    " \n",
    "<p>*Ecrit par Charles Poulmaire<br/>\n",
    "Lycée Vangogh, Aubergenville (Académie de Versailles)*</p><hr/>"
   ]
  },
  {
   "cell_type": "markdown",
   "metadata": {},
   "source": [
    "<h1> Enoncé</h1><br/>\n",
    "<p>On note $U_n$ la somme des entiers de $1$ à $n$, et $V_n$ la somme des carrés des entiers de $1$ à $n$.</p>\n",
    "<p>On souhaite déterminer l'expression de $V_n$ en fonction de $n$.</p>\n",
    "<br/>\n",
    "</p>On va observer et étudier la suite des quotients $W_n = \\dfrac{V_n}{U_n}$.</p>\n"
   ]
  },
  {
   "cell_type": "markdown",
   "metadata": {
    "collapsed": true
   },
   "source": [
    "<h2> Consigne 1 </h2>\n",
    "\n",
    "1) Compléter la fonction `Somme_entiers1(n)` renvoyant la somme des entiers de $1$ à $n$."
   ]
  },
  {
   "cell_type": "code",
   "execution_count": 1,
   "metadata": {
    "collapsed": true
   },
   "outputs": [],
   "source": [
    "#  Fonction somme des entiers avec boucle for.\n",
    "def Somme_entiers1(n):\n",
    "    s=0\n",
    "    #.....\n",
    "     #.......\n",
    "    return s"
   ]
  },
  {
   "cell_type": "markdown",
   "metadata": {},
   "source": [
    "2) Tester la fonction pour n =100"
   ]
  },
  {
   "cell_type": "code",
   "execution_count": 1,
   "metadata": {
    "collapsed": true
   },
   "outputs": [],
   "source": [
    "# Ecrire les instructions ici.\n"
   ]
  },
  {
   "cell_type": "markdown",
   "metadata": {},
   "source": [
    "<h2> Consigne 2 </h2>\n",
    "\n",
    "1) En remarquant que les entiers sont les termes d'une suite classique, écrire une fonction `Somme_entiers2(n)` renvoyant la somme des entiers de $1$ à $n$."
   ]
  },
  {
   "cell_type": "code",
   "execution_count": 1,
   "metadata": {
    "ExecuteTime": {
     "end_time": "2017-10-31T09:23:50.364803Z",
     "start_time": "2017-10-31T09:23:50.361283Z"
    },
    "collapsed": true
   },
   "outputs": [],
   "source": [
    "# Ecrire la fonction ici."
   ]
  },
  {
   "cell_type": "markdown",
   "metadata": {},
   "source": [
    "2) Tester la fonction pour n =100"
   ]
  },
  {
   "cell_type": "code",
   "execution_count": 2,
   "metadata": {
    "ExecuteTime": {
     "end_time": "2017-10-31T09:23:55.766729Z",
     "start_time": "2017-10-31T09:23:55.757768Z"
    },
    "collapsed": true
   },
   "outputs": [],
   "source": [
    "# Ecrire les instructions ici."
   ]
  },
  {
   "cell_type": "markdown",
   "metadata": {},
   "source": [
    "<h2> Consigne 3 </h2>\n",
    "\n",
    "1) Ecrire une fonction `Somme_carre(n)` renvoyant la somme des carrés des entiers de $1$ à $n$."
   ]
  },
  {
   "cell_type": "code",
   "execution_count": 3,
   "metadata": {
    "collapsed": true
   },
   "outputs": [],
   "source": [
    "# Ecrire la fonction ici."
   ]
  },
  {
   "cell_type": "markdown",
   "metadata": {},
   "source": [
    "2) Tester la fonction pour n =100"
   ]
  },
  {
   "cell_type": "code",
   "execution_count": 4,
   "metadata": {
    "collapsed": true
   },
   "outputs": [],
   "source": [
    "# Ecrire les instructions ici.\n"
   ]
  },
  {
   "cell_type": "markdown",
   "metadata": {},
   "source": [
    "<h2> Consigne 4 </h2>\n",
    "\n",
    "Soit $(W_n)$ la suite définie par $\\dfrac{V_n}{U_n}$ pour tout $n \\geq 1$.\n",
    "<br/>\n",
    "1) Justifier que la suite $(W_n)$ est bien définie $n \\geq 1$."
   ]
  },
  {
   "cell_type": "markdown",
   "metadata": {},
   "source": [
    "<i>Ecrire la réponse ici</i> "
   ]
  },
  {
   "cell_type": "markdown",
   "metadata": {},
   "source": [
    "2) A l'aide des fonctions précédentes, écrire une fonction `W(n)` renvoyant le terme de rang $n$."
   ]
  },
  {
   "cell_type": "code",
   "execution_count": 1,
   "metadata": {
    "collapsed": true
   },
   "outputs": [],
   "source": [
    "# Ecrire la fonction ici."
   ]
  },
  {
   "cell_type": "markdown",
   "metadata": {},
   "source": [
    "3) Tester la fonction pour n =100"
   ]
  },
  {
   "cell_type": "code",
   "execution_count": 6,
   "metadata": {
    "collapsed": true
   },
   "outputs": [],
   "source": [
    "# Ecrire les instructions ici.\n"
   ]
  },
  {
   "cell_type": "markdown",
   "metadata": {},
   "source": [
    "<h2> Consigne 5 </h2>\n",
    "<p>1) Exécutez le code `Python` suivant et expliquez ce qu'il réalise :</p>"
   ]
  },
  {
   "cell_type": "code",
   "execution_count": 9,
   "metadata": {},
   "outputs": [
    {
     "data": {
      "image/png": "[encoded data removed]",
      "text/plain": [
       "<matplotlib.figure.Figure at 0x1049f1e48>"
      ]
     },
     "metadata": {},
     "output_type": "display_data"
    }
   ],
   "source": [
    "import matplotlib.pyplot as plt\n",
    "x=[1,2,3,5]\n",
    "y=[10,15,6,12.5]\n",
    "plt.plot(x,y, 'ro')\n",
    "plt.show()"
   ]
  },
  {
   "cell_type": "markdown",
   "metadata": {},
   "source": [
    "<i>Ecrire la réponse ici</i>"
   ]
  },
  {
   "cell_type": "markdown",
   "metadata": {},
   "source": [
    "<h2> Consigne 6 </h2>\n",
    "\n",
    "<p>1) Ecrire une fonction `graphique(n)` qui réalise une représentation graphique de la suite $(W_n)$</p>"
   ]
  },
  {
   "cell_type": "code",
   "execution_count": 7,
   "metadata": {
    "collapsed": true
   },
   "outputs": [],
   "source": [
    "# Ecrire la fonction ici."
   ]
  },
  {
   "cell_type": "markdown",
   "metadata": {},
   "source": [
    "<p> 2) Quelle est l'allure de ce graphique ?</p>\n",
    "\n",
    "\n"
   ]
  },
  {
   "cell_type": "markdown",
   "metadata": {},
   "source": [
    "<i>Ecrire la réponse ici</i>"
   ]
  },
  {
   "cell_type": "markdown",
   "metadata": {},
   "source": [
    "<p> 3) A quelle type de suite cela correspond-il ?</p>"
   ]
  },
  {
   "cell_type": "markdown",
   "metadata": {},
   "source": [
    "<i>Ecrire la réponse ici</i>"
   ]
  },
  {
   "cell_type": "markdown",
   "metadata": {
    "collapsed": true
   },
   "source": [
    "<h2> Consigne 7 </h2>\n",
    "<p>1) Ecrire une fonction `calcul(n)` permettant de vérifier votre conjecture émise dans la consigne 6.</p>"
   ]
  },
  {
   "cell_type": "code",
   "execution_count": 22,
   "metadata": {
    "collapsed": true
   },
   "outputs": [],
   "source": [
    "# Ecrire la fonction ici."
   ]
  },
  {
   "cell_type": "markdown",
   "metadata": {},
   "source": [
    "2) Tester votre fonction"
   ]
  },
  {
   "cell_type": "code",
   "execution_count": 8,
   "metadata": {
    "collapsed": true
   },
   "outputs": [],
   "source": [
    "# Ecrire les instructions ici."
   ]
  },
  {
   "cell_type": "markdown",
   "metadata": {},
   "source": [
    "3) Quelle conjecture pouvez-vous faire sur l'expression de $W_n$ en fonction de $n$ ?"
   ]
  },
  {
   "cell_type": "markdown",
   "metadata": {},
   "source": [
    "<i>Ecrire la réponse ici</i>\n"
   ]
  },
  {
   "cell_type": "markdown",
   "metadata": {
    "collapsed": true
   },
   "source": [
    "<h2> Consigne 7 </h2>\n",
    "\n",
    "<p>1) Quelle est l'expression de $U_n$ en fonction de $n$ ?</p>\n",
    "\n",
    "\n",
    "<p>2) Déterminer l'expression de $V_n$ en fonction de $n$ à laquelle conduit la conjecture des consignes 6 et 7.</p>\n",
    "\n",
    "\n",
    "<p>3) Démontrer votre formule pour $V_n$.</p>\n"
   ]
  },
  {
   "cell_type": "markdown",
   "metadata": {},
   "source": [
    "<h3> Bilan des compétences en algorithmique et en programmation consigne par consigne : </h3>\n",
    "- Consigne 1 : \n",
    "  - Compléter une fonction avec paramètre utilisant une boucle bornée,\n",
    "  - Appeler une fonction avec paramètre. \n",
    "- Consignes 2 et 3 :\n",
    "  - Ecrire une fonction avec paramètre, \n",
    "  - Utiliser une boucle bornée, \n",
    "  - Appeler une fonction avec paramètre.\n",
    "- Consigne 4 :\n",
    "  - Ecrire une fonction avec paramètre à l'aide de deux fonctions définies précédemment, \n",
    "  - Appeler une fonction avec paramètre.\n",
    "- Consigne 5 :\n",
    "  - Lire, utiliser et comprendre un script fourni,\n",
    "  - Comprendre la structure de liste,\n",
    "  - Utiliser les fonctions de la bibliothèque graphique.\n",
    "- Consigne 6 :\n",
    "  - Ecrire une fonction avec paramètre,\n",
    "  - Utiliser les fonctions de la bibliothèque graphique,\n",
    "  - Utiliser une boucle bornée,\n",
    "  - Utiliser des listes,\n",
    "  - Appeler une fonction avec paramètre."
   ]
  }
 ],
 "metadata": {
  "kernelspec": {
   "display_name": "Python 3",
   "language": "python",
   "name": "python3"
  },
  "language_info": {
   "codemirror_mode": {
    "name": "ipython",
    "version": 3
   },
   "file_extension": ".py",
   "mimetype": "text/x-python",
   "name": "python",
   "nbconvert_exporter": "python",
   "pygments_lexer": "ipython3",
   "version": "3.6.2"
  },
  "varInspector": {
   "cols": {
    "lenName": 16,
    "lenType": 16,
    "lenVar": 40
   },
   "kernels_config": {
    "python": {
     "delete_cmd_postfix": "",
     "delete_cmd_prefix": "del ",
     "library": "var_list.py",
     "varRefreshCmd": "print(var_dic_list())"
    },
    "r": {
     "delete_cmd_postfix": ") ",
     "delete_cmd_prefix": "rm(",
     "library": "var_list.r",
     "varRefreshCmd": "cat(var_dic_list()) "
    }
   },
   "types_to_exclude": [
    "module",
    "function",
    "builtin_function_or_method",
    "instance",
    "_Feature"
   ],
   "window_display": true
  }
 },
 "nbformat": 4,
 "nbformat_minor": 2
}
