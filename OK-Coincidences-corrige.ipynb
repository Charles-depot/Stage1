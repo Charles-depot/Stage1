{
 "cells": [
  {
   "cell_type": "markdown",
   "metadata": {},
   "source": [
    "<h1> Déterminer une valeur approchée d'une espérance. </h1>\n",
    "\n",
    "<hr/>\n",
    "<h3> Niveaux</h3>\n",
    "    <ul>\n",
    "        <li> Première  </li>\n",
    "        <li> Terminale  </li>\n",
    "    </ul>\n",
    " <h3> Compétences mathématiques</h3>\n",
    "     <ul>\n",
    "        <li>simulation d'une expérience aléatoire, </li>\n",
    "        <li>loi de probabilité d'une variable aléatoire, </li>\n",
    "        <li>estimation d'une espérance,</li>\n",
    "        <li>diagrammes et échantillonnage,</li>\n",
    "        <li>communiquer à l'écrit.</li>\n",
    "   </ul>\n",
    "    <h3>Compétences algorithmiques et en programmation</h3>   \n",
    "     <ul>\n",
    "        <li>  analyser le fonctionnement ou le but d'un algorithme  </li>\n",
    "        <li>  modifier un algorithme existant pour obtenir un résultat précis </li>\n",
    "        <li>  créer un algorithme en réponse à un problème donné  </li>\n",
    "        <li>  utiliser les affectations et les listes </li>\n",
    "        <li>  définir et appeller des fonctions avec et sans paramètres   </li>\n",
    "        <li>  lire, comprendre et modifier des scripts   </li>\n",
    "        <li>  affectations, instructions conditionnelles et boucles bornée et non bornée, </li>\n",
    "        <li>  manipuler une bibliothèque graphique.</li>\n",
    "    </ul>\n",
    "    <hr/>\n",
    "    <p>Ecrit par Charles Poulmaire</p>\n",
    "<br/>\n",
    "Lycée Vangogh, Aubergenville (Académie de Versailles)</p><hr/>"
   ]
  },
  {
   "cell_type": "markdown",
   "metadata": {},
   "source": [
    "<h1> Enoncé</h1>\n",
    "<p>Soit $n$ un entier naturel. On place dans un sac $n$ jetons numérotés de $1$ à $n$. On les tire du sac un par un. On obtient ainsi tous les nombres entiers de $1$ à $n$ dans un certain ordre. On suppose que tous les ordres possibles sont équipropables.</p>\n",
    "<p>Nous dirons qu'il y a coïncidence au rang $i$ si le ième jeton tiré porte le numéro $i$.</p>\n",
    "<p>On note $X$ la variable aléatoire qui prend pour valeurs le nombre de coîncidences.</p>\n",
    "<p>On aimerait estimer la loi de probabilité et l'espérance de cette variable aléatoire.</p>\n",
    "<br/>"
   ]
  },
  {
   "cell_type": "markdown",
   "metadata": {},
   "source": [
    "<h2> Consigne 1 </h2>\n",
    "<p>Le sac contient 5 jetons.</p>\n",
    "1. Calculer le nombre de coïncidences si l'ordre tiré au sort est 2,1,3,5,4. \n",
    "2. Calculer le nombre de coïncidences si l'ordre tiré au sort est 1,3,2,4,5."
   ]
  },
  {
   "cell_type": "markdown",
   "metadata": {},
   "source": [
    "<i>Réponses ici</i>\n",
    "1. 1\n",
    "2. 3"
   ]
  },
  {
   "cell_type": "markdown",
   "metadata": {},
   "source": [
    "<h2> Consigne 2 </h2>\n",
    "\n",
    "Calculer le nombre d'ordres des jetons sans aucune coïncidence \n",
    "1. pour 1 jeton ;\n",
    "2. pour 2 jetons ;\n",
    "3. pour 3 jetons."
   ]
  },
  {
   "cell_type": "markdown",
   "metadata": {},
   "source": [
    "<i>Réponses ici.</i>\n",
    "1. Pour n = 1, le nombre d'ordre ne comportant pas de coïncidence est 0.\n",
    "2. Pour n = 2, le nombre d'ordre ne comportant pas de coïncidence est 1.\n",
    "3. Pour n = 3, le nombre d'ordre ne comportant pas de coïncidence est 2."
   ]
  },
  {
   "cell_type": "markdown",
   "metadata": {},
   "source": [
    "<h2> Consigne 3 </h2>\n",
    "<p> On se place dans le cas de 4 jetons.</p>\n",
    "\n",
    "<p> Déterminer la loi de probabilité de $X$ et calculer $E(X)$.</p>"
   ]
  },
  {
   "cell_type": "markdown",
   "metadata": {},
   "source": [
    "<i>Réponse ici</i>\n",
    "<p>Il y a 1 seul ordre présentant 4 coïncidences. S'il y a 1 coïncidence, cela signifie qu'il y a 4 choix pour ce jeton. Celui-ci étant fixé, les 3 autres ne présentent donc aucune coïncidence. Il y a 2 possibilités (question précédente), soit au total 8 possibilités. <br/>\n",
    "Il ne peut pas y avoir 3 coïncidences car si 3 jetons sont bien placés, le dernier l'est aussi. <br/>\n",
    "Il y a en tout $4!=24$ ordres possibles. Le nombre d'ordres ne comportant aucune coïncidence est donc 24-(1+6+8)=9.<br/>\n",
    "La loi de probabilité de $X$ est la suivante : <br/>\n",
    "<table style=\"border : 1px solid black;\">\n",
    "        <tr style=\"border : 1px solid black;\">\n",
    "            <th> Nombre $k$ de coïncidence(s) </th>\n",
    "            <td style=\"border : 1px solid black; text-align:center;\">$0$ </td>\n",
    "            <td style=\"border : 1px solid black;text-align:center;\"> $1$ </td>\n",
    "            <td style=\"border : 1px solid black;text-align:center;\"> $2$ </td>\n",
    "            <td style=\"border : 1px solid black;text-align:center;\"> $3$ </td>\n",
    "            <td style=\"text-align:center;\"> $4$ </td>\n",
    "        </tr>\n",
    "        <tr style=\"border : 1px solid black;\">\n",
    "            <th> $P(X=k)$ </th>\n",
    "            <td style=\"border : 1px solid black;\"> $\\dfrac{9}{24}$ </td>\n",
    "            <td style=\"border : 1px solid black;\"> $\\dfrac{1}{3}$ </td>\n",
    "            <td style=\"border : 1px solid black;\"> $\\dfrac{1}{4}$ </td>\n",
    "            <td style=\"border : 1px solid black;\"> $0$ </td>\n",
    "            <td> $\\dfrac{1}{24}$ </td>\n",
    "        </tr>\n",
    "    </table>\n",
    "</p>\n",
    "<p> $E(X) = 1$ </p>"
   ]
  },
  {
   "cell_type": "markdown",
   "metadata": {},
   "source": [
    "<h2> Consigne 4 </h2>\n",
    "    <p> On se place dans le cas d'un nombre (entier) $n$ fixé de jetons.\n",
    "    On effectue plusieurs expériences, on détermine la valeur moyenne du nombre de coïncidences.\n",
    "    On souhaite observer la moyenne des valeurs prises par le nombre de coïncidences sur un nombre quelconque d'expériences, et plus précisément l'évolution de cette moyenne en fonction du nombre d'expériences.</p>\n",
    "<p>**La bibliothèque `random` permet d'obtenir des fonctions utiles pour générer des nombres pseudo-aléatoires. On l'ouvre à l'aide de la syntaxe `import math` que l'on place dès le début du script python. Les fonctions d'usage le plus fréquent sont :\n",
    "<ul>\n",
    "<li> `random.random()` qui renvoie un nombre réel (pseudo)-aléatoire de l'intervalle semi-ouvert [0;1[;</li>\n",
    "<li> `random.randint(a,b)` qui renvoie un nombre entier (pseudo)-aléatoire de l'intervalle compris entre a et b (bornes incluses);</li>\n",
    "<li> `random.shuffle(l)` qui permet de melanger (pseudo)-aléatoirement les éléments d'une liste;</li>\n",
    "</ul>\n",
    "** </p>\n",
    "<p>\n",
    "On donne la fonction `melange(n)` suivante :\n",
    "</p>"
   ]
  },
  {
   "cell_type": "code",
   "execution_count": 1,
   "metadata": {
    "collapsed": true
   },
   "outputs": [],
   "source": [
    "import random\n",
    "\n",
    "def melange(n):\n",
    "    l = [i for i in range(1,n+1)] \n",
    "    random.shuffle(l)\n",
    "    return l"
   ]
  },
  {
   "cell_type": "markdown",
   "metadata": {},
   "source": [
    "1) Tester cette fonction ?"
   ]
  },
  {
   "cell_type": "code",
   "execution_count": 2,
   "metadata": {},
   "outputs": [
    {
     "data": {
      "text/plain": [
       "[7, 2, 4, 12, 14, 15, 3, 10, 11, 6, 1, 8, 5, 13, 9]"
      ]
     },
     "execution_count": 2,
     "metadata": {},
     "output_type": "execute_result"
    }
   ],
   "source": [
    "# Ecrire les instructions ici.\n",
    "L = melange(15)\n",
    "\n",
    "\n",
    "L"
   ]
  },
  {
   "cell_type": "markdown",
   "metadata": {},
   "source": [
    " 2) Que renvoie cette fonction ?"
   ]
  },
  {
   "cell_type": "markdown",
   "metadata": {},
   "source": [
    "<i> Ecrire la réponse ici</i>\n",
    "<p> Une liste de nombres entiers de $1$ à $n$ mélangés.</p>"
   ]
  },
  {
   "cell_type": "markdown",
   "metadata": {},
   "source": [
    "3) Quelle est l'instruction qui permet de connaître le nombre d'éléments de la liste L ? "
   ]
  },
  {
   "cell_type": "code",
   "execution_count": 3,
   "metadata": {},
   "outputs": [
    {
     "data": {
      "text/plain": [
       "15"
      ]
     },
     "execution_count": 3,
     "metadata": {},
     "output_type": "execute_result"
    }
   ],
   "source": [
    "# Ecrire l'expression ici.\n",
    "len(L)"
   ]
  },
  {
   "cell_type": "markdown",
   "metadata": {},
   "source": [
    "4) Quelle est l'instruction qui permet d'afficher le premier élément de la liste L ?"
   ]
  },
  {
   "cell_type": "code",
   "execution_count": 4,
   "metadata": {},
   "outputs": [
    {
     "data": {
      "text/plain": [
       "7"
      ]
     },
     "execution_count": 4,
     "metadata": {},
     "output_type": "execute_result"
    }
   ],
   "source": [
    "# Ecrire l'expression ici.\n",
    "L[0]"
   ]
  },
  {
   "cell_type": "markdown",
   "metadata": {},
   "source": [
    "5) Quelle est l'instruction qui permet d'afficher le dernier élément de la liste L ?"
   ]
  },
  {
   "cell_type": "code",
   "execution_count": 5,
   "metadata": {},
   "outputs": [
    {
     "data": {
      "text/plain": [
       "9"
      ]
     },
     "execution_count": 5,
     "metadata": {},
     "output_type": "execute_result"
    }
   ],
   "source": [
    "# Ecrire l'expression ici.\n",
    "L[len(L)-1]"
   ]
  },
  {
   "cell_type": "markdown",
   "metadata": {
    "collapsed": true
   },
   "source": [
    "<h2> Consigne 5 </h2>\n",
    "<p> 1) Compléter la fonction `coincidence(n)` qui a pour paramètre $n$, effectue un tirage et renvoie le nombre de coïncidences d'une liste.</p>"
   ]
  },
  {
   "cell_type": "code",
   "execution_count": 6,
   "metadata": {
    "collapsed": true
   },
   "outputs": [],
   "source": [
    "# Ecrire la fonction ici.\n",
    "def coincidence(n):\n",
    "    compteur = 0\n",
    "    l = melange(n)\n",
    "    for i in range(len(l)):\n",
    "        if l[i]==i+1:  #####\n",
    "            compteur = compteur + 1 ####\n",
    "    return compteur"
   ]
  },
  {
   "cell_type": "markdown",
   "metadata": {},
   "source": [
    "2) Tester votre fonction."
   ]
  },
  {
   "cell_type": "code",
   "execution_count": 7,
   "metadata": {},
   "outputs": [
    {
     "data": {
      "text/plain": [
       "2"
      ]
     },
     "execution_count": 7,
     "metadata": {},
     "output_type": "execute_result"
    }
   ],
   "source": [
    "# Ecrire l'instruction ici.\n",
    "coincidence(15)"
   ]
  },
  {
   "cell_type": "markdown",
   "metadata": {},
   "source": [
    "<h2> Consigne 6 </h2>\n",
    "<br/>\n",
    "1) Ecrire une fonction `echantillon(N,n)` ayant pour paramètres $n$ (nombre de jetons) et $N$ (nombre de d'expériences) et renvoyant les fréquences sous la forme d'une liste ."
   ]
  },
  {
   "cell_type": "code",
   "execution_count": 8,
   "metadata": {
    "collapsed": true
   },
   "outputs": [],
   "source": [
    "# Ecrire le code Python ici.\n",
    "def echantillon(N,n):\n",
    "    j = 0\n",
    "    X = [0]*(n+1)\n",
    "    for i in range(N):\n",
    "        j = coincidence(n)\n",
    "        X[j]=X[j]+1\n",
    "    for i in range(n+1):\n",
    "        X[i] = X[i]  / N\n",
    "    return X"
   ]
  },
  {
   "cell_type": "markdown",
   "metadata": {},
   "source": [
    "2) Tester votre fonction avec différentes valeurs de n et N."
   ]
  },
  {
   "cell_type": "code",
   "execution_count": 9,
   "metadata": {},
   "outputs": [
    {
     "data": {
      "text/plain": [
       "[0.39, 0.29, 0.24, 0.08, 0.0, 0.0]"
      ]
     },
     "execution_count": 9,
     "metadata": {},
     "output_type": "execute_result"
    }
   ],
   "source": [
    "# Ecrire l'instruction ici.\n",
    "echantillon(100,5)"
   ]
  },
  {
   "cell_type": "markdown",
   "metadata": {},
   "source": [
    "3) Que remarquez-vous pour l'avant dernière valeur de la liste ? Expliquez cette valeur."
   ]
  },
  {
   "cell_type": "markdown",
   "metadata": {},
   "source": [
    "L'avant dernière valeur de la liste est égale à 0. Il ne peut pas y avoir $n-1$ coincidences car si $n-1$ jetons sont bien placés, le dernier l'est aussi. "
   ]
  },
  {
   "cell_type": "markdown",
   "metadata": {
    "collapsed": true
   },
   "source": [
    "<h2> Consigne 7 </h2>\n",
    "\n",
    "1) Ecrire une fonction`moyenne_pondere(X)` ayant pour paramètre une liste `X` et qui renvoie la moyenne pondérée des éléments de la liste. On rappelle que le premier élément de la liste correspond à un nombre de coîncidences egal à 0."
   ]
  },
  {
   "cell_type": "code",
   "execution_count": 12,
   "metadata": {
    "collapsed": true
   },
   "outputs": [],
   "source": [
    "def moyenne_pondere(X):\n",
    "    m = 0\n",
    "    for i in range(len(X)):\n",
    "        m = m + i*X[i] \n",
    "    return m"
   ]
  },
  {
   "cell_type": "markdown",
   "metadata": {
    "collapsed": true
   },
   "source": [
    "2) Que doit-on écrire pour afficher la moyenne d'un echantillon de taille 100 avec un sac de 5 jetons ? Recommencez avec différentes valeurs."
   ]
  },
  {
   "cell_type": "code",
   "execution_count": 13,
   "metadata": {},
   "outputs": [
    {
     "data": {
      "text/plain": [
       "1.02"
      ]
     },
     "execution_count": 13,
     "metadata": {},
     "output_type": "execute_result"
    }
   ],
   "source": [
    "# Ecrire l'instruction ici.\n",
    "moyenne_pondere(echantillon(1000,5))"
   ]
  },
  {
   "cell_type": "markdown",
   "metadata": {},
   "source": [
    "3) Recommencez avec d'autres valeurs pour $n$ et $N$."
   ]
  },
  {
   "cell_type": "code",
   "execution_count": 14,
   "metadata": {},
   "outputs": [
    {
     "data": {
      "text/plain": [
       "0.9985000000000002"
      ]
     },
     "execution_count": 14,
     "metadata": {},
     "output_type": "execute_result"
    }
   ],
   "source": [
    "# Ecrire l'instruction ici.\n",
    "moyenne_pondere(echantillon(10000,25))"
   ]
  },
  {
   "cell_type": "markdown",
   "metadata": {},
   "source": [
    "4) Que remarquez-vous ?"
   ]
  },
  {
   "cell_type": "markdown",
   "metadata": {},
   "source": [
    "<i>Ecrire la réponse ici</i>\n",
    "<p>*La moyenne est proche de 1.*</p>"
   ]
  },
  {
   "cell_type": "markdown",
   "metadata": {},
   "source": [
    "<h2> Consigne 8 </h2>\n",
    "<p> On souhaite observer l'évolution de la moyenne pondérée en fonction du nombre d'expériences.</p>\n",
    "<p>** On utilise la bibliothèque `matplotlib.pyplot` pour donner une représentation graphique de cette évolution. Il est pratique de l'ouvrir en lui donnant un nom abrégé, par la commande `import matplotlib.pyplot as plt`**</p>"
   ]
  },
  {
   "cell_type": "code",
   "execution_count": 15,
   "metadata": {
    "collapsed": true
   },
   "outputs": [],
   "source": [
    "import matplotlib.pyplot as plt\n",
    "\n",
    "def evolutionMoyenne(n,nExperiences):\n",
    "    s = coincidence(n)\n",
    "    nb = 1\n",
    "    L = [s] # moyenne sur 1 expérience\n",
    "    while nb < nExperiences:\n",
    "        nb = nb + 1\n",
    "        s = s + coincidence(n)\n",
    "        L.append(s/nb) # on ajoute la moyenne sur n expériences\n",
    "    plt.plot(list(range(1,nExperiences+1)),L,'b.')\n",
    "    plt.plot([1,nExperiences],[1, 1],'r-')\n",
    "    plt.grid()\n",
    "    plt.show()"
   ]
  },
  {
   "cell_type": "markdown",
   "metadata": {},
   "source": [
    "1) Tester cette fonction pour différentes valeurs du nombre de jetons et d'expériences."
   ]
  },
  {
   "cell_type": "code",
   "execution_count": 16,
   "metadata": {
    "scrolled": true
   },
   "outputs": [
    {
     "data": {
      "image/png": "[encoded data removed]",
      "text/plain": [
       "<matplotlib.figure.Figure at 0x2b2992d26d8>"
      ]
     },
     "metadata": {},
     "output_type": "display_data"
    }
   ],
   "source": [
    "evolutionMoyenne(5,200)"
   ]
  },
  {
   "cell_type": "markdown",
   "metadata": {},
   "source": [
    "2) Que peut-on conjecturer pour l'espérance du nombre de coincidences en fonction de $n$ ?"
   ]
  },
  {
   "cell_type": "markdown",
   "metadata": {},
   "source": [
    "*Ecrire la réponse ici*\n",
    " L'espérance ne dépend pas de $n$ : elle est toujours égale à 1."
   ]
  },
  {
   "cell_type": "markdown",
   "metadata": {},
   "source": [
    "<h3> Bilan des compétences en algorithmique et en programmation consigne par consigne : </h3>\n",
    "<ul>\n",
    "    <li> Consigne 4 : \n",
    "        <ul>\n",
    "            <li> utiliser la fonction `random.shuffle()` de la bibliothèque `random` ;</li>\n",
    "            <li> appeler une fonction avec paramètres </li>\n",
    "            <li> manipuler des listes (indexation des listes et longueur).</li>\n",
    "        </ul> </li>\n",
    "    <li> Consigne 5 :\n",
    "        <ul>\n",
    "            <li> compléter une fonction avec paramètres; </li>\n",
    "            <li> appeler une fonction avec paramètres; </li>\n",
    "            <li> utiliser une boucle bornée; </li>\n",
    "            <li> utiliser un test d'égalité; </li>\n",
    "            <li> utiliser une fonction créée précédemment. </li>\n",
    "        </ul></li>\n",
    "    <li> Consigne 6 :\n",
    "        <ul>\n",
    "            <li> créer une fonction avec paramètres ; </li>\n",
    "            <li> utiliser une boucle bornée; </li>\n",
    "            <li> utiliser une fonction créée précédemment. </li>\n",
    "        </ul></li>\n",
    "    <li> Consigne 7 :\n",
    "        <ul>\n",
    "            <li> créer une fonction avec paramètres; </li>\n",
    "            <li> appeler une fonction avec paramètres ; </li>\n",
    "            <li> utiliser une boucle bornée. </li>\n",
    "        </ul></li>\n",
    "    <li> Consigne 8 :\n",
    "        <ul>\n",
    "            <li> appeler une fonction avec plusieurs paramètres. </li>\n",
    "        </ul></li>   \n",
    "</ul>"
   ]
  }
 ],
 "metadata": {
  "kernelspec": {
   "display_name": "Python 3",
   "language": "python",
   "name": "python3"
  },
  "language_info": {
   "codemirror_mode": {
    "name": "ipython",
    "version": 3
   },
   "file_extension": ".py",
   "mimetype": "text/x-python",
   "name": "python",
   "nbconvert_exporter": "python",
   "pygments_lexer": "ipython3",
   "version": "3.6.2"
  },
  "varInspector": {
   "cols": {
    "lenName": 16,
    "lenType": 16,
    "lenVar": 40
   },
   "kernels_config": {
    "python": {
     "delete_cmd_postfix": "",
     "delete_cmd_prefix": "del ",
     "library": "var_list.py",
     "varRefreshCmd": "print(var_dic_list())"
    },
    "r": {
     "delete_cmd_postfix": ") ",
     "delete_cmd_prefix": "rm(",
     "library": "var_list.r",
     "varRefreshCmd": "cat(var_dic_list()) "
    }
   },
   "types_to_exclude": [
    "module",
    "function",
    "builtin_function_or_method",
    "instance",
    "_Feature"
   ],
   "window_display": true
  }
 },
 "nbformat": 4,
 "nbformat_minor": 2
}
