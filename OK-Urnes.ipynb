{
 "cells": [
  {
   "cell_type": "markdown",
   "metadata": {},
   "source": [
    "<h1> Simulation d'un tirage de boules et calcul d'espérance</h1>\n",
    "<hr/>\n",
    "<h3> Niveaux</h3>\n",
    "   <ul>  \n",
    "        <li>  Terminales   </li>\n",
    "        <li>  Premières   </li>\n",
    "    </ul>\n",
    " <h3> Compétences mathématiques</h3>   \n",
    "    <ul>\n",
    "        <li>  Simulation d'une expérience aléatoire   </li>\n",
    "        <li>  Estimation d'une espérance   </li>\n",
    "        <li>  Diagrammes en bâtons et échantillonnage   </li>\n",
    "    </ul>\n",
    "    <h3> Compétences algorithmiques et en programmation</h3>   \n",
    "    <ul>\n",
    "        <li>  affectations, instructions conditionnelles et boucles bornées   </li>\n",
    "        <li>  définitions et appels de fonctions avec et sans paramètres   </li>\n",
    "        <li>  lecture, compréhension et modification de scripts   </li>\n",
    "        <li>  manipulation d'une bibliothèque graphique   </li>\n",
    "    </ul>\n",
    "    <hr/>\n",
    "<p>*Ecrit par Charles Poulmaire<br/>\n",
    "Lycée Vangogh d'Aubergenville (Académie de Versailles)*</p><hr/>"
   ]
  },
  {
   "cell_type": "markdown",
   "metadata": {},
   "source": [
    "<h1> Enonce</h1>\n",
    "On considère trois urnes composées de boules banches et de boules noires indiscernables au toucher.\n",
    "<br/>\n",
    "  <ul>\n",
    "        <li> On prend une boule dans l'urne 1 (7 boules banches et 4 boules noires), on note sa couleur et on la remet.   </li>\n",
    "        <li> On prend une boule dans l'urne 2 (5 boules banches et 2 boules noires), on note sa couleur et on la remet.  </li>\n",
    "        <li> On prend une boule dans l'urne 3 (6 boules banches et 3 boules noires), on note sa couleur et on la remet.   </li>\n",
    "    </ul>\n",
    "On cherche à déterminer le nombre de boules blanches, en moyenne, tirées à l'issue de ces trois tirages."
   ]
  },
  {
   "cell_type": "markdown",
   "metadata": {},
   "source": [
    "<h2> Consigne 1 </h2>\n",
    "**La bibliothèque `random` permet d'obtenir des fonctions générant des nombres aléatoires. On la charge à l'aide de la syntaxe \n",
    "`from random import *` que l'on place dès le début du script `python`. La fonction `randint(a,b)` renvoie alors un entier alèatoire dans l'intervalle [a;b]**\n",
    "</br></br>\n",
    "<p>\n",
    "1) Dans la cellule ci-dessous, écrire une fonction `Urne(Nb,Nt)` ayant comme arguments Nb le nombre de boules\n",
    "blanches et Nt le nombre de boules totales dans l'urne et renvoyant 1 si la boule est blanche et 0 sinon.</p>"
   ]
  },
  {
   "cell_type": "code",
   "execution_count": 1,
   "metadata": {
    "collapsed": true
   },
   "outputs": [],
   "source": [
    "# Ecrire le code Python ici"
   ]
  },
  {
   "cell_type": "markdown",
   "metadata": {
    "collapsed": true
   },
   "source": [
    "\n",
    "2) Ecrire dans la cellule ci-dessous une instruction permettant de simuler l'expèrience décrite dans l'énoncé."
   ]
  },
  {
   "cell_type": "code",
   "execution_count": 1,
   "metadata": {
    "collapsed": true
   },
   "outputs": [],
   "source": [
    "# Ecrire l'instruction ici."
   ]
  },
  {
   "cell_type": "markdown",
   "metadata": {},
   "source": [
    "3) Ecrire une fonction tirage() qui renvoie le nombre de boules blanches."
   ]
  },
  {
   "cell_type": "code",
   "execution_count": 3,
   "metadata": {
    "collapsed": true
   },
   "outputs": [],
   "source": [
    "# Ecrire le code Python ici"
   ]
  },
  {
   "cell_type": "markdown",
   "metadata": {},
   "source": [
    "4) Tester  votre fonction"
   ]
  },
  {
   "cell_type": "code",
   "execution_count": 2,
   "metadata": {
    "collapsed": true
   },
   "outputs": [],
   "source": [
    "# Ecrire l'instruction ici."
   ]
  },
  {
   "cell_type": "markdown",
   "metadata": {},
   "source": [
    "<h2>Consigne 2</h2><br/>\n",
    "<p>\n",
    "1) On répète cette expérience un certain nombre de fois. \n",
    "Ecrire dans la cellule ci-dessous une fonction Python nommée `Simulation(n)` avec comme argument n le nombre de répétitions et renvoyant la moyenne du nombre de boules blanches obtenues.\n",
    "</p>"
   ]
  },
  {
   "cell_type": "code",
   "execution_count": 5,
   "metadata": {
    "collapsed": true
   },
   "outputs": [],
   "source": [
    "# Ecrire le code Python ici"
   ]
  },
  {
   "cell_type": "markdown",
   "metadata": {
    "collapsed": true
   },
   "source": [
    "2) Tester votre code pour une simulation de taille 1000."
   ]
  },
  {
   "cell_type": "code",
   "execution_count": 3,
   "metadata": {
    "collapsed": true
   },
   "outputs": [],
   "source": [
    "# Ecrire l'instruction ici."
   ]
  },
  {
   "cell_type": "markdown",
   "metadata": {},
   "source": [
    "<h2>Consigne 3</h2>\n",
    "\n",
    "1) Exécuter le code `Python` suivant et expliquer ce qu'il réalise:"
   ]
  },
  {
   "cell_type": "code",
   "execution_count": null,
   "metadata": {
    "collapsed": true
   },
   "outputs": [],
   "source": [
    "import matplotlib.pyplot as plt\n",
    "x=[1,2,3,5]\n",
    "y=[10,15,6,12.5]\n",
    "plt.bar(x,y)\n",
    "plt.show()"
   ]
  },
  {
   "cell_type": "markdown",
   "metadata": {},
   "source": [
    "2) On répète p fois la simulation de la consigne 3. Ecrire dans la cellule ci-dessous une fonction `diag_simul(n)`affichant le diagramme de p bâtons dont les hauteurs correspondent aux valeurs retournées par la fonction `Simulation()`avec comme argument n le nombre de répétitions et p la taille d'un échantillon."
   ]
  },
  {
   "cell_type": "code",
   "execution_count": 8,
   "metadata": {
    "collapsed": true
   },
   "outputs": [],
   "source": [
    "# Ecrire le code Python ici"
   ]
  },
  {
   "cell_type": "markdown",
   "metadata": {},
   "source": [
    "3) Tester votre fonction  pour n = 1000 et p = 20.."
   ]
  },
  {
   "cell_type": "code",
   "execution_count": 4,
   "metadata": {
    "collapsed": true
   },
   "outputs": [],
   "source": [
    "# Ecrire l'instruction ici."
   ]
  },
  {
   "cell_type": "markdown",
   "metadata": {},
   "source": [
    "  <h2>Consigne 4</h2><br/>\n",
    "  <p>On souhaite observer la moyenne en fonction du nombre d’expériences.</p> <br/>\n",
    "  <p>** On utilise la bibliothèque `matplotlib.pyplot` pour donner une représentation graphique de cette évolution. Il est pratique de l'ouvrir en lui donnant un nom abrégé, par la commande `import matplotlib.pyplot as plt`**</p>"
   ]
  },
  {
   "cell_type": "code",
   "execution_count": 10,
   "metadata": {
    "collapsed": true
   },
   "outputs": [],
   "source": [
    "import matplotlib.pyplot as plt\n",
    "\n",
    "def evolutionMoyenne(nExperiences):\n",
    "    s = tirage()\n",
    "    n = 1\n",
    "    L = [s] # moyenne sur 1 expérience\n",
    "    while n < nExperiences:\n",
    "        n = n+ 1\n",
    "        s = s + tirage()\n",
    "        L.append(s/n) # on ajoute la moyenne sur n expériences\n",
    "    plt.plot(list(range(1,nExperiences+1)),L,'b.')\n",
    "    plt.plot([1,nExperiences],[2, 2],'r-')\n",
    "    plt.grid()\n",
    "    plt.show()"
   ]
  },
  {
   "cell_type": "markdown",
   "metadata": {},
   "source": [
    "<p>a) Tester la fonction evolutionMoyenne avec comme argument 500.</p> <br/>"
   ]
  },
  {
   "cell_type": "code",
   "execution_count": 5,
   "metadata": {
    "collapsed": true,
    "scrolled": true
   },
   "outputs": [],
   "source": [
    "# Ecrire l'instruction ici."
   ]
  },
  {
   "cell_type": "markdown",
   "metadata": {},
   "source": [
    " <p> b) Justifier chaque ligne du script.</p>"
   ]
  },
  {
   "cell_type": "markdown",
   "metadata": {},
   "source": [
    "<i>Réponse ici</i>"
   ]
  },
  {
   "cell_type": "markdown",
   "metadata": {
    "collapsed": true
   },
   "source": [
    "4) Que peut-on en déduire sur l'espérance de cette expérience ?"
   ]
  },
  {
   "cell_type": "markdown",
   "metadata": {},
   "source": [
    "<i>Réponse ici</i>"
   ]
  },
  {
   "cell_type": "markdown",
   "metadata": {},
   "source": [
    "<h2>Consigne 4</h2>\n"
   ]
  },
  {
   "cell_type": "markdown",
   "metadata": {},
   "source": [
    "Justifier la conjecture précédente. Faire un arbre.\n",
    "Soit X la variable aléatoire correspondant au nombre de boules blanches tirées lors des trois tirages successifs."
   ]
  },
  {
   "cell_type": "markdown",
   "metadata": {},
   "source": [
    "<i>Réponse ici</i>"
   ]
  },
  {
   "cell_type": "markdown",
   "metadata": {},
   "source": [
    "<h3> Bilan des compétences en algorithmique et en programmation consigne par consigne : </h3>\n",
    "<ul>\n",
    "    <li> Consigne 1 : \n",
    "        <ul>\n",
    "            <li> utilisation de fonctions de la bibliothèque `random`;</li> \n",
    "            <li> utilisation d'une boucle bornée;</li>\n",
    "            <li> appel d'une fonction;</li>\n",
    "        </ul> </li>\n",
    "    <li> Consigne 2 :\n",
    "        <ul>\n",
    "           <li> définition d'une fonction;</li>\n",
    "           <li> utilisation d'une boucle bornée;</li>\n",
    "           <li> appel d'une fonction;</li>\n",
    "        </ul></li>\n",
    "    <li> Consigne 3 :\n",
    "        <ul>\n",
    "            <li>utilisation de fonctions de la bibliothèque `matplotlib`;</li>\n",
    "             <li>Comprendre des fonctions de la bibliothèque `matplotlib`;</li>\n",
    "            <li> définition et appel d'une fonction;</li>\n",
    "            <li> utilisation d'une boucle bornée;</li>\n",
    "            <li> manipulation de listes;</li>\n",
    "        </ul></li>\n",
    "</ul>\n"
   ]
  }
 ],
 "metadata": {
  "kernelspec": {
   "display_name": "Python 3",
   "language": "python",
   "name": "python3"
  },
  "language_info": {
   "codemirror_mode": {
    "name": "ipython",
    "version": 3
   },
   "file_extension": ".py",
   "mimetype": "text/x-python",
   "name": "python",
   "nbconvert_exporter": "python",
   "pygments_lexer": "ipython3",
   "version": "3.6.2"
  },
  "varInspector": {
   "cols": {
    "lenName": 16,
    "lenType": 16,
    "lenVar": 40
   },
   "kernels_config": {
    "python": {
     "delete_cmd_postfix": "",
     "delete_cmd_prefix": "del ",
     "library": "var_list.py",
     "varRefreshCmd": "print(var_dic_list())"
    },
    "r": {
     "delete_cmd_postfix": ") ",
     "delete_cmd_prefix": "rm(",
     "library": "var_list.r",
     "varRefreshCmd": "cat(var_dic_list()) "
    }
   },
   "types_to_exclude": [
    "module",
    "function",
    "builtin_function_or_method",
    "instance",
    "_Feature"
   ],
   "window_display": false
  }
 },
 "nbformat": 4,
 "nbformat_minor": 2
}
